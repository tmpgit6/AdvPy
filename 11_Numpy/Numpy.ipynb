{
 "cells": [
  {
   "cell_type": "markdown",
   "metadata": {},
   "source": [
    "# Numpy \n",
    "\n",
    "## Installation\n",
    "~~~bash\n",
    "> pip install numpy\n",
    "~~~\n",
    "\n",
    "\n"
   ]
  },
  {
   "cell_type": "code",
   "execution_count": 1,
   "metadata": {},
   "outputs": [],
   "source": [
    "import numpy as np"
   ]
  },
  {
   "cell_type": "code",
   "execution_count": 2,
   "metadata": {},
   "outputs": [],
   "source": [
    "import sys\n",
    "import time"
   ]
  },
  {
   "cell_type": "markdown",
   "metadata": {},
   "source": [
    "## Compare native python list and numpy\n",
    "\n",
    "1. Memory size : numpy uses low memory"
   ]
  },
  {
   "cell_type": "code",
   "execution_count": 3,
   "metadata": {},
   "outputs": [
    {
     "name": "stdout",
     "output_type": "stream",
     "text": [
      "2800\n",
      "800\n"
     ]
    }
   ],
   "source": [
    "SIZE = 100 # 100x integers\n",
    "\n",
    "# One Single Integer --> 4x Bytes\n",
    "\n",
    "# Native list\n",
    "mylist = range(SIZE)\n",
    "print(sys.getsizeof(1) * SIZE) # Size of 100 integers --> 2800 bytes\n",
    "\n",
    "# Numpy Array\n",
    "numpy_array = np.array(SIZE)\n",
    "print(numpy_array.itemsize * SIZE)  # 800x Bytes, because 8xByte/Integer * 100 Integers"
   ]
  },
  {
   "cell_type": "markdown",
   "metadata": {},
   "source": [
    "2. Execution Time : Numpy is faster than native list"
   ]
  },
  {
   "cell_type": "code",
   "execution_count": 4,
   "metadata": {},
   "outputs": [
    {
     "name": "stdout",
     "output_type": "stream",
     "text": [
      "Python Time: 104.50243949890137\n"
     ]
    }
   ],
   "source": [
    "SIZE = 1000000 # x Integers\n",
    "\n",
    "# Add two lists together\n",
    "\n",
    "# Python Native\n",
    "mylist1 = range(SIZE)\n",
    "mylist2 = range(SIZE)\n",
    "\n",
    "start = time.time()\n",
    "result = [(x+y) for x,y in zip(mylist1,mylist2)]\n",
    "end = time.time()\n",
    "print(\"Python Time:\", (end-start) * 1000)"
   ]
  },
  {
   "cell_type": "code",
   "execution_count": 5,
   "metadata": {},
   "outputs": [
    {
     "name": "stdout",
     "output_type": "stream",
     "text": [
      "Numpy Time: 17.407894134521484\n"
     ]
    }
   ],
   "source": [
    "# Numpy Array\n",
    "array1 = np.arange(SIZE)\n",
    "array2 = np.arange(SIZE)\n",
    "\n",
    "start = time.time()\n",
    "result = array1 + array2\n",
    "end = time.time()\n",
    "print(\"Numpy Time:\", (end-start) * 1000)"
   ]
  },
  {
   "cell_type": "markdown",
   "metadata": {},
   "source": [
    "# Define Arrays"
   ]
  },
  {
   "cell_type": "code",
   "execution_count": null,
   "metadata": {},
   "outputs": [],
   "source": [
    "# 1. Via native python list\n",
    "mylist = [1,2,3,4,5]\n",
    "print(mylist, type(mylist))\n",
    "\n",
    "array = np.array(mylist)\n",
    "print(array,type(array))\n",
    "\n",
    "\n",
    "# 2. define directly one dimensional\n",
    "array_1 = np.array([1,2,3,4,5])\n",
    "print(array_1)\n",
    "\n",
    "# 3. define multi dimensional array\n",
    "array_2 = np.array( [ [1,2], [3,4]   ]   )\n",
    "print(array_2)"
   ]
  },
  {
   "cell_type": "code",
   "execution_count": 6,
   "metadata": {},
   "outputs": [
    {
     "name": "stdout",
     "output_type": "stream",
     "text": [
      "[1. 2. 3. 4. 5.]\n",
      "[1 2 3 4 5]\n"
     ]
    }
   ],
   "source": [
    "# Define with specific data type\n",
    "array_1 = np.array([1,2,3,4,5], dtype = np.float64)   # 8x bytes float\n",
    "print(array_1)\n",
    "\n",
    "\n",
    "array_1 = np.array([1,2,3,4,5], dtype = np.int32)   # 4x bytes int\n",
    "print(array_1)\n",
    "\n",
    "\n"
   ]
  },
  {
   "cell_type": "markdown",
   "metadata": {},
   "source": [
    "# Array Information"
   ]
  },
  {
   "cell_type": "code",
   "execution_count": 7,
   "metadata": {},
   "outputs": [
    {
     "name": "stdout",
     "output_type": "stream",
     "text": [
      "[1 2 3 4 5]\n"
     ]
    }
   ],
   "source": [
    "array_1 = np.array([1,2,3,4,5])\n",
    "print(array_1)"
   ]
  },
  {
   "cell_type": "code",
   "execution_count": 8,
   "metadata": {},
   "outputs": [
    {
     "name": "stdout",
     "output_type": "stream",
     "text": [
      "[1 2 3 4 5]\n",
      "(5,)\n",
      "1\n",
      "5\n",
      "int64\n",
      "8\n"
     ]
    }
   ],
   "source": [
    "array_1 = np.array([1,2,3,4,5])\n",
    "print(array_1)\n",
    "\n",
    "\n",
    "print(array_1.shape) # (5,)  : vector with 5x elements\n",
    "print(array_1.ndim) # 1\n",
    "print(array_1.size) # 5x Items\n",
    "print(array_1.dtype) # int32\n",
    "print(array_1.itemsize) # size : 4x bytes for each item"
   ]
  },
  {
   "cell_type": "code",
   "execution_count": 9,
   "metadata": {},
   "outputs": [
    {
     "name": "stdout",
     "output_type": "stream",
     "text": [
      "[[1. 2.]\n",
      " [3. 4.]]\n",
      "(2, 2)\n",
      "2\n",
      "4\n",
      "float64\n",
      "8\n"
     ]
    }
   ],
   "source": [
    "array_2 = np.array( [ [1,2], [3,4]   ], dtype =np.float64   )\n",
    "print(array_2)\n",
    "\n",
    "print(array_2.shape) # (2,2) 2x rows  and 2x columns\n",
    "print(array_2.ndim) # 2x dimensional\n",
    "print(array_2.size) # 4x items\n",
    "print(array_2.dtype) # float64\n",
    "print(array_2.itemsize) # 8x bytes/item\n"
   ]
  },
  {
   "cell_type": "markdown",
   "metadata": {},
   "source": [
    "# Mathermatical Operations"
   ]
  },
  {
   "cell_type": "code",
   "execution_count": null,
   "metadata": {},
   "outputs": [],
   "source": [
    "a = np.arange(10)  # 0->9\n",
    "b = np.arange(1,11)  # 1->10\n",
    "c = np.array( [ [1,2], [3,4] , [5,6]     ]  )\n",
    "\n",
    "print(a + b)\n",
    "print(a - b)\n",
    "print(a * b)\n",
    "print(a / b)\n",
    "\n",
    "print() \n",
    "\n",
    "\n",
    "# Numpy functions\n",
    "print(np.sqrt(a))\n"
   ]
  },
  {
   "cell_type": "markdown",
   "metadata": {},
   "source": [
    "# Functions"
   ]
  },
  {
   "cell_type": "code",
   "execution_count": 11,
   "metadata": {},
   "outputs": [
    {
     "data": {
      "text/plain": [
       "array([[1, 2],\n",
       "       [3, 4],\n",
       "       [5, 6]])"
      ]
     },
     "execution_count": 11,
     "metadata": {},
     "output_type": "execute_result"
    }
   ],
   "source": [
    "c = np.array( [ [1,2], [3,4] , [5,6]     ]  )\n",
    "c"
   ]
  },
  {
   "cell_type": "code",
   "execution_count": 12,
   "metadata": {},
   "outputs": [
    {
     "name": "stdout",
     "output_type": "stream",
     "text": [
      "0\n",
      "9\n",
      "4.5\n",
      "45\n",
      "21\n",
      "[ 9 12]\n",
      "[ 3  7 11]\n",
      "[ 5.    3.3   2.12  5.15 76.78  8.88]\n",
      "[2 4 4 5 6 7 8]\n"
     ]
    }
   ],
   "source": [
    "a = np.arange(10)  # 0->9\n",
    "b = np.arange(1,11)  # 1->10\n",
    "c = np.array( [ [1,2], [3,4] , [5,6]     ]  )\n",
    "\n",
    "\n",
    "\n",
    "# Array functions\n",
    "print(a.min())\n",
    "print(a.max())\n",
    "print(a.mean())\n",
    "print(a.sum())\n",
    "print(c.sum())  # 1+2+3+4+5+6\n",
    "\n",
    "\n",
    "# Advanced Sum --> Sum over columns or rows\n",
    "\"\"\" \n",
    "axis = 0 : columns\n",
    "axis = 1 : rows\n",
    "\"\"\"\n",
    "\n",
    "print(c.sum(axis=0))  # over columns [9 12]\n",
    "print(c.sum(axis=1))  # over rows [3 7 11]\n",
    "\n",
    "\n",
    "\n",
    "\n",
    "\n",
    "# Rounding\n",
    "a = np.array([5.0,3.3,2.123,5.1547,76.781,8.8782])\n",
    "print(a.round(decimals = 2)) # round all items\n",
    "\n",
    "\n",
    "# Sorting\n",
    "a = np.array([5,4,2,6,8,7,4])\n",
    "\n",
    "a.sort()\n",
    "print(a) # [ 2  3  5  5  8 76]\n"
   ]
  },
  {
   "cell_type": "markdown",
   "metadata": {},
   "source": [
    "# Accessing Items --> Slicing"
   ]
  },
  {
   "cell_type": "code",
   "execution_count": 13,
   "metadata": {},
   "outputs": [
    {
     "name": "stdout",
     "output_type": "stream",
     "text": [
      "(3, 2)\n",
      "[1 2]\n",
      "[3 4]\n",
      "[5 6]\n",
      "[[1 2]\n",
      " [3 4]]\n",
      "[[5 6]\n",
      " [3 4]\n",
      " [1 2]]\n",
      "4\n",
      "[[2]\n",
      " [4]]\n"
     ]
    }
   ],
   "source": [
    "c = np.array([[1,2], \n",
    "              [3,4], \n",
    "              [5,6]])\n",
    "print(c.shape) # (3, 2)  3x Rows and 2x Columns\n",
    "\n",
    "\n",
    "print(c[0])\n",
    "print(c[1])\n",
    "print(c[-1])\n",
    "print(c[0:2])\n",
    "\n",
    "print(c[::-1]) # rückwerts\n",
    "\n",
    "\n",
    "# Specific Item\n",
    "print(c[1,1]) # 4: 1x row, 1xcolumn\n",
    "\n",
    "# Range\n",
    "print(c[0:2,1:2]) # \n",
    "\n"
   ]
  },
  {
   "cell_type": "markdown",
   "metadata": {},
   "source": [
    "# Generate Data"
   ]
  },
  {
   "cell_type": "code",
   "execution_count": 14,
   "metadata": {},
   "outputs": [
    {
     "name": "stdout",
     "output_type": "stream",
     "text": [
      "[ 0  1  2  3  4  5  6  7  8  9 10 11 12 13 14 15 16 17 18 19 20 21 22 23\n",
      " 24 25 26 27 28 29]\n",
      "[10 11 12 13 14 15 16 17 18 19 20 21 22 23 24 25 26 27 28 29]\n",
      "[[0. 0. 0. 0.]\n",
      " [0. 0. 0. 0.]\n",
      " [0. 0. 0. 0.]]\n",
      "[[1. 1. 1. 1.]\n",
      " [1. 1. 1. 1.]\n",
      " [1. 1. 1. 1.]]\n",
      "[1.         1.08163265 1.16326531 1.24489796 1.32653061 1.40816327\n",
      " 1.48979592 1.57142857 1.65306122 1.73469388 1.81632653 1.89795918\n",
      " 1.97959184 2.06122449 2.14285714 2.2244898  2.30612245 2.3877551\n",
      " 2.46938776 2.55102041 2.63265306 2.71428571 2.79591837 2.87755102\n",
      " 2.95918367 3.04081633 3.12244898 3.20408163 3.28571429 3.36734694\n",
      " 3.44897959 3.53061224 3.6122449  3.69387755 3.7755102  3.85714286\n",
      " 3.93877551 4.02040816 4.10204082 4.18367347 4.26530612 4.34693878\n",
      " 4.42857143 4.51020408 4.59183673 4.67346939 4.75510204 4.83673469\n",
      " 4.91836735 5.        ]\n",
      "[5 5 5 5 5 5]\n",
      "[[5 5 5]\n",
      " [5 5 5]]\n"
     ]
    }
   ],
   "source": [
    "a = np.arange(30) # 0-29\n",
    "b = np.arange(10,30) # 10-29\n",
    "\n",
    "print(a)\n",
    "print(b)\n",
    "\n",
    "zeros = np.zeros((3,4 )) # 3x Rows, 4x Columns\n",
    "print(zeros)\n",
    "\n",
    "ones = np.ones((3,4))\n",
    "print(ones)\n",
    "\n",
    "\n",
    "numbers = np.linspace(1,5,50) # 50x numbers between 1 and 5, equal spaced\n",
    "print(numbers)\n",
    "\n",
    "\n",
    "# generate vector of 6x items with each and every value equal to 5\n",
    "numbers = np.full((6,), 5) # [5 5 5 5 5 5]\n",
    "print(numbers)\n",
    "\n",
    "# generate matrix dimension 2-by-3 with each and every value equal to 5\n",
    "numbers = np.full((2, 3), 5)\n",
    "print(numbers)"
   ]
  },
  {
   "cell_type": "code",
   "execution_count": null,
   "metadata": {},
   "outputs": [],
   "source": []
  },
  {
   "cell_type": "markdown",
   "metadata": {},
   "source": [
    "# Reshaping\n",
    "- Converts the shape of an array to another **compatible** shape\n",
    "- It create a new array without changing the original one"
   ]
  },
  {
   "cell_type": "code",
   "execution_count": 15,
   "metadata": {},
   "outputs": [
    {
     "name": "stdout",
     "output_type": "stream",
     "text": [
      "Before Reshaping:\n",
      "(3, 2)\n",
      "After  Reshaping 1:\n",
      "[[1 2 3]\n",
      " [4 5 6]] (2, 3)\n",
      "After  Reshaping 2:\n",
      "[[1]\n",
      " [2]\n",
      " [3]\n",
      " [4]\n",
      " [5]\n",
      " [6]] (6, 1)\n",
      "After  Reshaping 3:\n",
      "[[1 2 3 4 5 6]] (1, 6)\n",
      "After  Reshaping 4:\n",
      "[1 2 3 4 5 6] (6,)\n"
     ]
    }
   ],
   "source": [
    "a = np.array( [ [1,2], \n",
    "                [3,4], \n",
    "                [5,6] ] )\n",
    "\n",
    "print(\"Before Reshaping:\")\n",
    "print(a.shape) # (3, 2)\n",
    "\n",
    "\n",
    "# 1. Reshape to 2x3\n",
    "print(\"After  Reshaping 1:\")\n",
    "b = a.reshape(2,3)\n",
    "print(b, b.shape)\n",
    "\n",
    "\n",
    "# 2. Reshape to 6x1\n",
    "print(\"After  Reshaping 2:\")\n",
    "c = a.reshape(6,1)\n",
    "print(c, c.shape)\n",
    "\n",
    "\n",
    "# 3. Reshape to 1x Row and 6x Columns\n",
    "print(\"After  Reshaping 3:\")\n",
    "e = a.reshape(1,6)\n",
    "print(e, e.shape) # [[1 2 3 4 5 6]] (1, 6)\n",
    "\n",
    "\n",
    "\n",
    "# 4. Reshape to 6xrows \n",
    "print(\"After  Reshaping 4:\")\n",
    "d = a.reshape(6,) # Vector of 6x items without column\n",
    "print(d, d.shape) # [1 2 3 4 5 6] (6,)\n",
    "\n",
    "\n",
    "\n",
    "\n"
   ]
  },
  {
   "cell_type": "markdown",
   "metadata": {},
   "source": [
    "# Flattern"
   ]
  },
  {
   "cell_type": "code",
   "execution_count": null,
   "metadata": {},
   "outputs": [],
   "source": [
    "a = np.array([ [1,2] , [3,4] , [5,6] ])\n",
    "\n",
    "print(a, a.shape)\n",
    "\n",
    "result = a.ravel()\n",
    "print(result, result.shape) # [1 2 3 4 5 6] (6,)\n",
    "\n",
    "\n",
    "# Alternative  (.flat is an iterator)\n",
    "for x in a.flat:\n",
    "    print(x)\n"
   ]
  },
  {
   "cell_type": "markdown",
   "metadata": {},
   "source": [
    "# Iteration over an array"
   ]
  },
  {
   "cell_type": "code",
   "execution_count": null,
   "metadata": {},
   "outputs": [],
   "source": [
    "a = np.array([ [1,2] , [3,4] , [5,6] ])\n",
    "\n",
    "for row in a:\n",
    "    print(row)\n",
    "\n",
    "\n",
    "for number in a.flat:\n",
    "    print(number)"
   ]
  },
  {
   "cell_type": "markdown",
   "metadata": {},
   "source": [
    "# Random"
   ]
  },
  {
   "cell_type": "code",
   "execution_count": 17,
   "metadata": {},
   "outputs": [],
   "source": [
    "from numpy import random "
   ]
  },
  {
   "cell_type": "code",
   "execution_count": 18,
   "metadata": {},
   "outputs": [],
   "source": [
    "np.random.seed(123)"
   ]
  },
  {
   "cell_type": "code",
   "execution_count": 19,
   "metadata": {},
   "outputs": [
    {
     "name": "stdout",
     "output_type": "stream",
     "text": [
      "66 <class 'int'>\n",
      "[92 98 17 83 57] <class 'numpy.ndarray'>\n",
      "10 <class 'numpy.int64'>\n",
      "[4 5 1] <class 'numpy.ndarray'>\n",
      "[[ 1  5  2  8  4]\n",
      " [ 3  5  8  3  5]\n",
      " [ 9  1  8 10  4]] <class 'numpy.ndarray'>\n"
     ]
    }
   ],
   "source": [
    "# signle random integer\n",
    "x = random.randint(100)\n",
    "print(x, type(x))\n",
    "\n",
    "# 1x dim random array with integers\n",
    "x = random.randint(100, size =(5,))\n",
    "print(x, type(x))\n",
    "\n",
    "# 1x dim random array with floats\n",
    "x = random.uniform(1,100, size=(5,))\n",
    "\n",
    "##### Choose from a list\n",
    "my_list = [1,2,3,4,5,6,7, 8,9, 10]\n",
    "\n",
    "# Single choice\n",
    "x = random.choice(my_list)\n",
    "print(x, type(x))\n",
    "\n",
    "# Multiple Choice 1x Dim\n",
    "x = random.choice(my_list, size= (3,))\n",
    "print(x, type(x))\n",
    "\n",
    "\n",
    "# Multiple Choice multix Dim\n",
    "x = random.choice(my_list, size= (3,5))\n",
    "print(x, type(x))"
   ]
  },
  {
   "cell_type": "markdown",
   "metadata": {},
   "source": [
    "# View\n",
    "\n",
    "Any change to the original, the view will be affected"
   ]
  },
  {
   "cell_type": "code",
   "execution_count": 20,
   "metadata": {},
   "outputs": [
    {
     "name": "stdout",
     "output_type": "stream",
     "text": [
      "[1 2 3 4 5]\n",
      "[1 2 3 4 5]\n",
      "[11  2  3  4  5]\n",
      "[11  2  3  4  5]\n",
      "[11 22  3  4  5]\n",
      "[11 22  3  4  5]\n"
     ]
    }
   ],
   "source": [
    "a = np.array([1,2,3,4,5])\n",
    "b = a  # b will referente to the same container as a\n",
    "\n",
    "print(a)\n",
    "print(b)\n",
    "\n",
    "# Change original\n",
    "a[0] = 11\n",
    "print(a)\n",
    "print(b)\n",
    "\n",
    "b[1] = 22\n",
    "print(a)\n",
    "print(b)"
   ]
  },
  {
   "cell_type": "markdown",
   "metadata": {},
   "source": [
    "# Copy"
   ]
  },
  {
   "cell_type": "code",
   "execution_count": 21,
   "metadata": {},
   "outputs": [
    {
     "name": "stdout",
     "output_type": "stream",
     "text": [
      "[1 2 3 4 5]\n",
      "[1 2 3 4 5]\n",
      "\n",
      "[11  2  3  4  5]\n",
      "[1 2 3 4 5]\n",
      "\n",
      "[11  2  3  4  5]\n",
      "[11111     2     3     4     5]\n"
     ]
    }
   ],
   "source": [
    "# a und b sind unterschiedliche Speicher\n",
    "\n",
    "a = np.array([1,2,3,4,5])\n",
    "b = a.copy()\n",
    "\n",
    "print(a)\n",
    "print(b)\n",
    "print() \n",
    "\n",
    "a[0] = 11\n",
    "print(a)\n",
    "print(b)\n",
    "print()\n",
    "\n",
    "\n",
    "b[0] = 11111\n",
    "print(a)\n",
    "print(b)\n"
   ]
  },
  {
   "cell_type": "markdown",
   "metadata": {},
   "source": [
    "# Vertical Stack of Data"
   ]
  },
  {
   "cell_type": "code",
   "execution_count": 22,
   "metadata": {},
   "outputs": [
    {
     "name": "stdout",
     "output_type": "stream",
     "text": [
      "[[ 1  2]\n",
      " [ 3  4]\n",
      " [ 5  6]\n",
      " [ 7  8]\n",
      " [ 9 10]\n",
      " [10 11]]\n"
     ]
    }
   ],
   "source": [
    "a1 = np.array([[1,2],\n",
    "               [3,4],\n",
    "               [5,6]])\n",
    "\n",
    "a2 = np.array([[7,8],\n",
    "               [9,10],\n",
    "               [10,11]])\n",
    "\n",
    "output = np.vstack((a1, a2))\n",
    "print(output)"
   ]
  },
  {
   "cell_type": "markdown",
   "metadata": {},
   "source": [
    "# Horizontal Stack of Data"
   ]
  },
  {
   "cell_type": "code",
   "execution_count": 23,
   "metadata": {},
   "outputs": [
    {
     "name": "stdout",
     "output_type": "stream",
     "text": [
      "[[ 1  2  3  7  8  9]\n",
      " [ 4  5  6 10 11 12]]\n"
     ]
    }
   ],
   "source": [
    "# Add the first row of both containers togehter in one row, then next rows\n",
    "\n",
    "a1 = np.array([[1,2,3],\n",
    "               [4,5,6]])\n",
    "\n",
    "a2 = np.array([[7,8,9],\n",
    "               [10,11,12]])\n",
    "\n",
    "output = np.hstack((a1, a2))\n",
    "\n",
    "print(output)"
   ]
  },
  {
   "cell_type": "markdown",
   "metadata": {},
   "source": [
    "# Data Type Conversion"
   ]
  },
  {
   "cell_type": "code",
   "execution_count": 24,
   "metadata": {},
   "outputs": [
    {
     "name": "stdout",
     "output_type": "stream",
     "text": [
      "[['2.5' '3.8' '1.5']\n",
      " ['4.7' '2.9' '1.56']]\n"
     ]
    }
   ],
   "source": [
    "a = np.array([[2.5, 3.8, 1.5],\n",
    "              [4.7, 2.9, 1.56]])\n",
    "\n",
    "output = a.astype('int')\n",
    "output = a.astype('float')\n",
    "output = a.astype('float64')\n",
    "output = a.astype('str')\n",
    "\n",
    "print(output)"
   ]
  },
  {
   "cell_type": "code",
   "execution_count": 25,
   "metadata": {},
   "outputs": [
    {
     "name": "stdout",
     "output_type": "stream",
     "text": [
      "[[2.5  3.8  1.5 ]\n",
      " [4.7  2.9  1.56]]\n",
      "8\n"
     ]
    }
   ],
   "source": [
    "a = np.array([[2.5, 3.8, 1.5],\n",
    "              [4.7, 2.9, 1.56]])\n",
    "\n",
    "output = a.astype('int') # 4 bytes\n",
    "# output = a.astype('int32') # 4 bytes\n",
    "output = a.astype('int64') # 8 byte\n",
    "\n",
    "\n",
    "output = a.astype('float') # 8 byte\n",
    "output = a.astype('float64') # 8 byte\n",
    "\n",
    "print(output)\n",
    "print(output.itemsize)"
   ]
  },
  {
   "cell_type": "markdown",
   "metadata": {},
   "source": [
    "# the positions (indexes) where elements of 2 numpy arrays match"
   ]
  },
  {
   "cell_type": "code",
   "execution_count": 26,
   "metadata": {},
   "outputs": [
    {
     "name": "stdout",
     "output_type": "stream",
     "text": [
      "(array([0, 3, 4]),)\n"
     ]
    }
   ],
   "source": [
    "a = np.array([1,2,3,4,5])\n",
    "\n",
    "b = np.array([1,3,2,4,5])\n",
    "\n",
    "print(np.where(a == b))"
   ]
  },
  {
   "cell_type": "markdown",
   "metadata": {},
   "source": [
    "# Matrix Multiplication"
   ]
  },
  {
   "cell_type": "code",
   "execution_count": 27,
   "metadata": {},
   "outputs": [
    {
     "name": "stdout",
     "output_type": "stream",
     "text": [
      "[[ 36  42  48]\n",
      " [ 81  96 111]\n",
      " [126 150 174]]\n"
     ]
    }
   ],
   "source": [
    "a = np.array([[1,2,3],\n",
    "              [4,5,6],\n",
    "              [7,8,9]])\n",
    "\n",
    "b = np.array([[2,3,4],\n",
    "              [5,6,7],\n",
    "              [8,9,10]])\n",
    "\n",
    "o = a@b\n",
    "\n",
    "# Alternative\n",
    "o = np.matmul(a, b)\n",
    "\n",
    "print(o)"
   ]
  },
  {
   "cell_type": "markdown",
   "metadata": {},
   "source": [
    "# Transpose"
   ]
  },
  {
   "cell_type": "code",
   "execution_count": 28,
   "metadata": {},
   "outputs": [
    {
     "name": "stdout",
     "output_type": "stream",
     "text": [
      "[[1 4 7]\n",
      " [2 5 8]\n",
      " [3 6 9]]\n"
     ]
    }
   ],
   "source": [
    "a = np.array([[1,2,3],\n",
    "              [4,5,6],\n",
    "              [7,8,9]])\n",
    "\n",
    "output = a.T\n",
    "\n",
    "print(output)"
   ]
  },
  {
   "cell_type": "markdown",
   "metadata": {},
   "source": [
    "# Sorting"
   ]
  },
  {
   "cell_type": "code",
   "execution_count": 29,
   "metadata": {},
   "outputs": [
    {
     "name": "stdout",
     "output_type": "stream",
     "text": [
      "[1 3 2 0]\n"
     ]
    }
   ],
   "source": [
    "array = np.array([10,1,5,2])\n",
    "\n",
    "indexes = np.argsort(array)\n",
    "\n",
    "print(indexes)"
   ]
  },
  {
   "cell_type": "markdown",
   "metadata": {},
   "source": [
    "# Dates"
   ]
  },
  {
   "cell_type": "code",
   "execution_count": 30,
   "metadata": {},
   "outputs": [
    {
     "name": "stdout",
     "output_type": "stream",
     "text": [
      "2024-09-05\n",
      "2024-09-06\n",
      "2024-09-07\n"
     ]
    }
   ],
   "source": [
    "yesterday = np.datetime64('today', 'D') - np.timedelta64(1, 'D')\n",
    "today     = np.datetime64('today', 'D')\n",
    "tomorrow  = np.datetime64('today', 'D') + np.timedelta64(1, 'D')\n",
    "\n",
    "print(yesterday)\n",
    "print(today)\n",
    "print(tomorrow)"
   ]
  },
  {
   "cell_type": "code",
   "execution_count": 31,
   "metadata": {},
   "outputs": [
    {
     "name": "stdout",
     "output_type": "stream",
     "text": [
      "['2022-01-13' '2022-01-14' '2022-01-15' '2022-01-16' '2022-01-17'\n",
      " '2022-01-18' '2022-01-19' '2022-01-20' '2022-01-21' '2022-01-22'\n",
      " '2022-01-23' '2022-01-24' '2022-01-25' '2022-01-26' '2022-01-27'\n",
      " '2022-01-28' '2022-01-29' '2022-01-30' '2022-01-31' '2022-02-01'\n",
      " '2022-02-02' '2022-02-03' '2022-02-04' '2022-02-05' '2022-02-06'\n",
      " '2022-02-07' '2022-02-08' '2022-02-09' '2022-02-10' '2022-02-11'\n",
      " '2022-02-12' '2022-02-13' '2022-02-14']\n"
     ]
    }
   ],
   "source": [
    "# Get Dates between two dates\n",
    "\n",
    "Z = np.arange('2022-01-13', '2022-02-15', dtype='datetime64[D]')\n",
    "print(Z)"
   ]
  }
 ],
 "metadata": {
  "kernelspec": {
   "display_name": "Python 3",
   "language": "python",
   "name": "python3"
  },
  "language_info": {
   "codemirror_mode": {
    "name": "ipython",
    "version": 3
   },
   "file_extension": ".py",
   "mimetype": "text/x-python",
   "name": "python",
   "nbconvert_exporter": "python",
   "pygments_lexer": "ipython3",
   "version": "3.12.4"
  },
  "orig_nbformat": 4,
  "vscode": {
   "interpreter": {
    "hash": "c6dc7db6e986e8b90ed4be5bee4794d9e1585055375cb0fe0f76777a0105364a"
   }
  }
 },
 "nbformat": 4,
 "nbformat_minor": 2
}
